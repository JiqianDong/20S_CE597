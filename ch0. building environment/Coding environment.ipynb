{
 "cells": [
  {
   "cell_type": "markdown",
   "metadata": {},
   "source": [
    "# Building environment\n"
   ]
  },
  {
   "cell_type": "markdown",
   "metadata": {},
   "source": [
    "By now, you should be able to have the anaconda python 3 environment. \n",
    "\n",
    "**Now, begin your greatest exploration in machine learning!**\n",
    "\n",
    "As a warming up, let's simply check the following packages which we will rely on for the rest of the demostrations. "
   ]
  },
  {
   "cell_type": "markdown",
   "metadata": {},
   "source": [
    "## 1. Python data science packages"
   ]
  },
  {
   "cell_type": "code",
   "execution_count": 1,
   "metadata": {},
   "outputs": [
    {
     "name": "stdout",
     "output_type": "stream",
     "text": [
      "1.18.4\n",
      "3.1.0\n",
      "1.4.1\n",
      "0.23.2\n",
      "0.24.2\n",
      "1.6.0\n",
      "1.2.0\n"
     ]
    }
   ],
   "source": [
    "# NumPy is the fundamental package needed for scientific computing with Python. \n",
    "import numpy as np  \n",
    "print(np.__version__)\n",
    "\n",
    "# Matplotlib is a Python 2D plotting library that makes it easy to produce cross-platform charts and figures.\n",
    "import matplotlib as plt \n",
    "print(plt.__version__)\n",
    "\n",
    "# SciPy is a gigantic library of data science packages mainly focused on mathematics, science, and engineering.\n",
    "import scipy\n",
    "print(scipy.__version__)\n",
    "\n",
    "\n",
    "# Scikit-Learn is a Python module for machine learning built on top of SciPy and NumPy.\n",
    "import sklearn\n",
    "print(sklearn.__version__)\n",
    "\n",
    "\n",
    "import pandas as pd\n",
    "print(pd.__version__)\n",
    "\n",
    "\n",
    "\n",
    "import xgboost\n",
    "print(xgboost.__version__)"
   ]
  },
  {
   "cell_type": "markdown",
   "metadata": {},
   "source": [
    "If you have the different version of these packages as I do, it should be fine. The code should be able to run with different versions. If there truely exists problem, you can intall the same version as mine.\n",
    "**Remark: Don't worry if you don't have these packages** \n",
    "\n",
    "you can easily install using jupyter notebook's magic commands:"
   ]
  },
  {
   "cell_type": "code",
   "execution_count": 2,
   "metadata": {},
   "outputs": [],
   "source": [
    "# ! pip install -U numpy  # U means update to the newest version"
   ]
  },
  {
   "cell_type": "markdown",
   "metadata": {},
   "source": [
    "## 2. Deep learning packages"
   ]
  },
  {
   "cell_type": "code",
   "execution_count": 3,
   "metadata": {},
   "outputs": [
    {
     "name": "stdout",
     "output_type": "stream",
     "text": [
      "2.3.0\n",
      "2.4.3\n"
     ]
    }
   ],
   "source": [
    "import tensorflow as tf\n",
    "import keras as K\n",
    "\n",
    "import torch\n",
    "\n",
    "\n",
    "\n",
    "print(tf.__version__)\n",
    "print(K.__version__)\n",
    "print(torch.__version__)"
   ]
  },
  {
   "cell_type": "code",
   "execution_count": 4,
   "metadata": {},
   "outputs": [],
   "source": [
    "# ! pip install tensorflow \n",
    "\n",
    "# you can specify the version by using 2 equal signs. \n",
    "# My tensorflow is pretty old due to some legacy research, you can try the latest version with the command\n",
    "# pip install tensorflow"
   ]
  },
  {
   "cell_type": "code",
   "execution_count": null,
   "metadata": {},
   "outputs": [],
   "source": []
  }
 ],
 "metadata": {
  "kernelspec": {
   "display_name": "Python 3",
   "language": "python",
   "name": "python3"
  },
  "language_info": {
   "codemirror_mode": {
    "name": "ipython",
    "version": 3
   },
   "file_extension": ".py",
   "mimetype": "text/x-python",
   "name": "python",
   "nbconvert_exporter": "python",
   "pygments_lexer": "ipython3",
   "version": "3.7.8"
  }
 },
 "nbformat": 4,
 "nbformat_minor": 2
}
